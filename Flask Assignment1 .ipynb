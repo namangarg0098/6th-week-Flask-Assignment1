{
 "cells": [
  {
   "cell_type": "markdown",
   "id": "ffd72f14-13a7-451d-a749-4d89808736f3",
   "metadata": {},
   "source": [
    "Q1. What is Flask Framework? What are the advantages of Flask Framework?"
   ]
  },
  {
   "cell_type": "code",
   "execution_count": null,
   "id": "a35043b3-2ff3-436d-89ae-ce659f05deb4",
   "metadata": {},
   "outputs": [],
   "source": [
    "# Flask is a micro web framework written in Python. It is classified as a microframework because it does not require particular tools or libraries. It has no database abstraction layer,\n",
    "# form validation, or any other components where pre-existing third-party libraries provide common functions."
   ]
  },
  {
   "cell_type": "code",
   "execution_count": null,
   "id": "47c80faa-90be-44de-bdb5-7f42b70cf42b",
   "metadata": {},
   "outputs": [],
   "source": [
    "# Advantages of flask framework \n",
    "\n",
    "# 1) It is a lightweight framework that offers hassle-free development.\n",
    "# 2) Provide flexibility to the developer to experiment with their modules or architecture.\n",
    "# 3) It is suitable for small projects.\n",
    "# 4) Offers a built-in development server and fast debugger.\n",
    "# 5) Easily scalable for the applications.\n",
    "# 6) Support for secure cookies."
   ]
  },
  {
   "cell_type": "code",
   "execution_count": null,
   "id": "855464ed-317a-420a-9c9b-9fc85d10761c",
   "metadata": {},
   "outputs": [],
   "source": []
  },
  {
   "cell_type": "code",
   "execution_count": null,
   "id": "fccb27f4-5f2c-4e07-86cc-0b82c112762b",
   "metadata": {},
   "outputs": [],
   "source": []
  },
  {
   "cell_type": "markdown",
   "id": "33bd7d64-58e7-40ad-9339-a14fa430b5e5",
   "metadata": {},
   "source": [
    "Q2. Create a simple Flask application to display ‘Hello World!!’. Attach the screenshot of the output in\n",
    "Jupyter Notebook."
   ]
  },
  {
   "cell_type": "code",
   "execution_count": null,
   "id": "e69c260d-d7a2-463e-b694-416d5a0b4ecd",
   "metadata": {},
   "outputs": [],
   "source": [
    "# from flask import Flask\n",
    "\n",
    "# app = Flask(__name__)\n",
    "\n",
    "# @app.route(\"/\")\n",
    "# def hello_world():\n",
    "#     return \"<h1>Hello, World!</h1>\"\n",
    "\n",
    "# if __name__==\"__main__\":\n",
    "#     app.run(host=\"0.0.0.0\")"
   ]
  },
  {
   "cell_type": "code",
   "execution_count": null,
   "id": "fdbaf351-7eb0-4fb4-85ca-3a6ffa15489a",
   "metadata": {},
   "outputs": [],
   "source": [
    "# screenshot link \n",
    "https://blue-carpenter-jfypj.pwskills.app/files/work/Screenshot%20(6).png?_xsrf=2%7C28c63da0%7C98e93dc5e26e3d4c64fc973371c6b925%7C1691076452"
   ]
  },
  {
   "cell_type": "code",
   "execution_count": null,
   "id": "1cc78870-0f99-4fd3-8cf9-db8a58f970ae",
   "metadata": {},
   "outputs": [],
   "source": [
    "# or if this link will not work i also upload this screenshot on github account "
   ]
  },
  {
   "cell_type": "code",
   "execution_count": null,
   "id": "178eb508-14ee-4511-9685-495778f1a21c",
   "metadata": {},
   "outputs": [],
   "source": []
  },
  {
   "cell_type": "markdown",
   "id": "7f368309-e279-4c0d-aaba-c92d1fadb0f5",
   "metadata": {},
   "source": [
    "Q3. What is App routing in Flask? Why do we use app routes?"
   ]
  },
  {
   "cell_type": "code",
   "execution_count": null,
   "id": "fb9d07e4-0020-4f10-9501-22a3c4fb220b",
   "metadata": {},
   "outputs": [],
   "source": [
    "# what is app routing in flask \n",
    "\n",
    "# App Routing means mapping the URLs to a specific function that will handle the logic for that URL. Modern web frameworks use more\n",
    "# meaningful URLs to help users remember the URLs and make navigation simpler. Example: In our application, the URL (“/”) is associated \n",
    "# with the root URL"
   ]
  },
  {
   "cell_type": "code",
   "execution_count": null,
   "id": "0f2ae718-cedc-4ba9-b12d-457975880378",
   "metadata": {},
   "outputs": [],
   "source": [
    "# why do we use app routes\n",
    "\n",
    "# App routing is the technique used to map the specific URL with the associated function intended to perform some task. The Latest Web\n",
    "# frameworks use the routing technique to help users remember application URLs."
   ]
  },
  {
   "cell_type": "code",
   "execution_count": null,
   "id": "0d65ee04-5275-431c-9ba5-8afcb422e075",
   "metadata": {},
   "outputs": [],
   "source": []
  },
  {
   "cell_type": "markdown",
   "id": "a3d2bcaa-6aca-4c5f-9304-08481b23e807",
   "metadata": {},
   "source": [
    "Q4. Create a “/welcome” route to display the welcome message “Welcome to ABC Corporation” and a “/” route to show the following details:\n",
    "\n",
    "Company Name: ABC Corporation\n",
    "\n",
    "Location: India\n",
    "\n",
    "Contact Detail: 999-999-9999"
   ]
  },
  {
   "cell_type": "code",
   "execution_count": null,
   "id": "211976cf-abbb-46ed-996f-9edf24cdfd56",
   "metadata": {},
   "outputs": [],
   "source": [
    "from flask import Flask\n",
    "\n",
    "app = Flask(__name__)\n",
    "\n",
    "@app.route(\"/\")\n",
    "def hello_world():\n",
    "    return \"<h2>Company Name: ABC Corporation, Location: India, Contact Detail: 999-999-9999</h2>\"\n",
    "\n",
    "@app.route(\"/welcome\")\n",
    "def welcome_msg():\n",
    "    return \"<h1>Welcome to ABC Corporation</h1>\"\n",
    "\n",
    "if __name__==\"__main__\":\n",
    "    app.run(host=\"0.0.0.0\")"
   ]
  },
  {
   "cell_type": "code",
   "execution_count": null,
   "id": "accb6eaa-2d4c-47a4-a75e-4cf68bb51c8f",
   "metadata": {},
   "outputs": [],
   "source": [
    "# for seeing welcome msg \n",
    "\n",
    "https://blue-carpenter-jfypj.pwskills.app/files/work/Screenshot%20(7).png?_xsrf=2%7C28c63da0%7C98e93dc5e26e3d4c64fc973371c6b925%7C1691076452"
   ]
  },
  {
   "cell_type": "code",
   "execution_count": null,
   "id": "d35d2b39-3849-451d-a2f2-5b5675b5779d",
   "metadata": {},
   "outputs": [],
   "source": [
    "# for seeing company_name, Location, and Contact_Details\n",
    "\n",
    "https://blue-carpenter-jfypj.pwskills.app/files/work/Screenshot%20(9).png?_xsrf=2%7C28c63da0%7C98e93dc5e26e3d4c64fc973371c6b925%7C1691076452"
   ]
  },
  {
   "cell_type": "code",
   "execution_count": null,
   "id": "3138011a-31a5-44d7-9bf0-edd3c0d3c664",
   "metadata": {},
   "outputs": [],
   "source": []
  },
  {
   "cell_type": "markdown",
   "id": "3f263757-2cab-4c3e-84f8-fd53523bf2f6",
   "metadata": {},
   "source": [
    "Q5. What function is used in Flask for URL Building? Write a Python code to demonstrate the working of the\n",
    "url_for() function."
   ]
  },
  {
   "cell_type": "code",
   "execution_count": null,
   "id": "14f8bb6a-026f-4b6b-bf71-d0af8dcd9d7c",
   "metadata": {},
   "outputs": [],
   "source": [
    "# Flask url_for is defined as a function that enables developers to build and generate URLs on a Flask application. As a best practice, it is the url_for function that is required to \n",
    "# be used, as hard coding the URL in templates and view function of the Flask application tends to utilize more time during modification."
   ]
  },
  {
   "cell_type": "code",
   "execution_count": null,
   "id": "1f687383-0e98-40d3-9bce-d6d408845615",
   "metadata": {},
   "outputs": [],
   "source": [
    "from flask import Flask, redirect, url_for\n",
    "\n",
    "app = Flask(__name__)\n",
    "\n",
    "@app.route(\"/\")\n",
    "def hello_world():\n",
    "    return \"<h2>Company Name: ABC Corporation, Location: India, Contact Detail: 999-999-9999</h2>\"\n",
    "\n",
    "@app.route(\"/welcome\")\n",
    "def welcome_msg():\n",
    "    return \"<h1>Welcome to ABC Corporation</h1>\"\n",
    "\n",
    "@app.route('/success/<int:score>')\n",
    "def success(score):\n",
    "    return 'The person has passed and the marks is ' +str(score)\n",
    "\n",
    "\n",
    "@app.route('/fail/<int:score>')\n",
    "def fail(score):\n",
    "    return 'The person has failed and the marks is ' +str(score)\n",
    "\n",
    "\n",
    "# Result checker \n",
    "\n",
    "@app.route('/results/<int:marks>')\n",
    "def results(marks):\n",
    "    result = \"\"\n",
    "    if marks<50:\n",
    "        result = 'fail'\n",
    "    else :\n",
    "        result = 'success'\n",
    "    return redirect(url_for(result, score=marks)) \n",
    "\n",
    "\n",
    "if __name__==\"__main__\":\n",
    "    app.run(host=\"0.0.0.0\")"
   ]
  },
  {
   "cell_type": "code",
   "execution_count": null,
   "id": "6b2121c1-2edf-454c-a66a-db3ad6527860",
   "metadata": {},
   "outputs": [],
   "source": []
  }
 ],
 "metadata": {
  "kernelspec": {
   "display_name": "Python 3 (ipykernel)",
   "language": "python",
   "name": "python3"
  },
  "language_info": {
   "codemirror_mode": {
    "name": "ipython",
    "version": 3
   },
   "file_extension": ".py",
   "mimetype": "text/x-python",
   "name": "python",
   "nbconvert_exporter": "python",
   "pygments_lexer": "ipython3",
   "version": "3.10.8"
  }
 },
 "nbformat": 4,
 "nbformat_minor": 5
}
